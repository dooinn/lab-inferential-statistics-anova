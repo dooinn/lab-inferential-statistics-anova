{
 "cells": [
  {
   "cell_type": "markdown",
   "id": "c8deeb68",
   "metadata": {},
   "source": [
    "# Lab | Inferential statistics - ANOVA\n",
    "\n",
    "- State the null hypothesis\n",
    "- State the alternate hypothesis\n",
    "- What is the significance level\n",
    "- What are the degrees of freedom of model, error terms, and total DoF\n",
    "\n",
    "\n",
    "# ANOVA (Analysis of Variance) Test\n",
    "The purpose of an ANOVA test is to determine whether there are any statistically significant differences between the means of three or more independent groups.\n",
    "\n",
    "## Hypotheses\n",
    "- **Null Hypothesis (H0)**: The means of the etching rates for different power levels are equal.\n",
    "- **Alternate Hypothesis (H1)**: At least one of the means of the etching rates for different power levels is different.\n",
    "\n",
    "## Significance Level\n",
    "A common significance level is α=0.05\n",
    "\n",
    "## Degrees of Freedom\n",
    "Degrees of Freedom for the Model (DF between or DFmodel): This is equal to the number of groups (power levels) minus 1. In your data, there are 3 unique power levels (160 W, 180 W, 200 W), so \n",
    "\n",
    "DF model=3−1=2.\n",
    "\n",
    "Degrees of Freedom for the Error (DF within or DFerror): This is equal to the total number of observations minus the number of groups. In your data, there are 15 observations and 3 groups, so \n",
    "\n",
    "DF error =15−3=12.\n",
    "\n",
    "Total Degrees of Freedom (df): 15-1 = 14"
   ]
  },
  {
   "cell_type": "code",
   "execution_count": 1,
   "id": "265412ae",
   "metadata": {},
   "outputs": [],
   "source": [
    "import pandas as pd\n",
    "import numpy as np\n",
    "from scipy import stats\n",
    "import seaborn as sns\n",
    "import matplotlib.pyplot as plt"
   ]
  },
  {
   "cell_type": "code",
   "execution_count": 2,
   "id": "dcbcf2aa",
   "metadata": {},
   "outputs": [],
   "source": [
    "df = pd.read_excel('files_for_lab/anova_lab_data.xlsx')"
   ]
  },
  {
   "cell_type": "code",
   "execution_count": 3,
   "id": "c7df411a",
   "metadata": {},
   "outputs": [
    {
     "name": "stdout",
     "output_type": "stream",
     "text": [
      "   power_  etching_rate\n",
      "0   160 W          5.43\n",
      "1   180 W          6.24\n",
      "2   200 W          8.79\n",
      "3   160 W          5.71\n",
      "4   180 W          6.71\n",
      "5   200 W          9.20\n",
      "6   160 W          6.22\n",
      "7   180 W          5.98\n",
      "8   200 W          7.90\n",
      "9   160 W          6.01\n",
      "10  180 W          5.66\n",
      "11  200 W          8.15\n",
      "12  160 W          5.59\n",
      "13  180 W          6.60\n",
      "14  200 W          7.55\n"
     ]
    }
   ],
   "source": [
    "df.columns = df.columns.str.lower().str.replace(' ', '_')\n",
    "print(df)"
   ]
  },
  {
   "cell_type": "code",
   "execution_count": 4,
   "id": "8420ce7f",
   "metadata": {},
   "outputs": [
    {
     "data": {
      "text/html": [
       "<div>\n",
       "<style scoped>\n",
       "    .dataframe tbody tr th:only-of-type {\n",
       "        vertical-align: middle;\n",
       "    }\n",
       "\n",
       "    .dataframe tbody tr th {\n",
       "        vertical-align: top;\n",
       "    }\n",
       "\n",
       "    .dataframe thead th {\n",
       "        text-align: right;\n",
       "    }\n",
       "</style>\n",
       "<table border=\"1\" class=\"dataframe\">\n",
       "  <thead>\n",
       "    <tr style=\"text-align: right;\">\n",
       "      <th></th>\n",
       "      <th>etching_rate</th>\n",
       "    </tr>\n",
       "    <tr>\n",
       "      <th>power_</th>\n",
       "      <th></th>\n",
       "    </tr>\n",
       "  </thead>\n",
       "  <tbody>\n",
       "    <tr>\n",
       "      <th>160 W</th>\n",
       "      <td>5.792</td>\n",
       "    </tr>\n",
       "    <tr>\n",
       "      <th>180 W</th>\n",
       "      <td>6.238</td>\n",
       "    </tr>\n",
       "    <tr>\n",
       "      <th>200 W</th>\n",
       "      <td>8.318</td>\n",
       "    </tr>\n",
       "  </tbody>\n",
       "</table>\n",
       "</div>"
      ],
      "text/plain": [
       "        etching_rate\n",
       "power_              \n",
       "160 W          5.792\n",
       "180 W          6.238\n",
       "200 W          8.318"
      ]
     },
     "execution_count": 4,
     "metadata": {},
     "output_type": "execute_result"
    }
   ],
   "source": [
    "df.groupby('power_').agg(np.mean)"
   ]
  },
  {
   "cell_type": "markdown",
   "id": "7692514f",
   "metadata": {},
   "source": [
    "Looking at the mean of respective power, 200W reveals the highest mean etching_rate"
   ]
  },
  {
   "cell_type": "code",
   "execution_count": null,
   "id": "48069b2c",
   "metadata": {},
   "outputs": [],
   "source": [
    "import statsmodels.api as sm\n",
    "from statsmodels.formula.api import ols\n",
    "\n",
    "model = ols('etching_rate ~ power_', data=df).fit()\n",
    "sm.stats.anova_lm(model)"
   ]
  },
  {
   "cell_type": "markdown",
   "id": "736309c3",
   "metadata": {},
   "source": [
    "p-value reveals way lower than alph(0.05), thus, we can conclude that the respective powers are not same."
   ]
  },
  {
   "cell_type": "code",
   "execution_count": null,
   "id": "b2069908",
   "metadata": {},
   "outputs": [],
   "source": [
    "df.pivot(columns='power_').describe()"
   ]
  },
  {
   "cell_type": "code",
   "execution_count": null,
   "id": "8d50b136",
   "metadata": {},
   "outputs": [],
   "source": [
    "from scipy.stats import ttest_ind\n",
    "\n",
    "group_160 = df[df['power_'] == '160 W']['etching_rate']\n",
    "group_180 = df[df['power_'] == '180 W']['etching_rate']\n",
    "group_200 = df[df['power_'] == '200 W']['etching_rate']\n",
    "\n",
    "\n",
    "print(ttest_ind(group_200,group_180))\n",
    "print(ttest_ind(group_200,group_160))\n",
    "\n"
   ]
  },
  {
   "cell_type": "markdown",
   "id": "8c8e9cb1",
   "metadata": {},
   "source": [
    "# Conclusion"
   ]
  },
  {
   "cell_type": "markdown",
   "id": "e5d84195",
   "metadata": {},
   "source": [
    "Reject the null hypothesis: At least one of the means is different.\n",
    "\n",
    "200W palsma beam does improve the etching rate.\n"
   ]
  },
  {
   "cell_type": "code",
   "execution_count": null,
   "id": "c0694a92",
   "metadata": {},
   "outputs": [],
   "source": []
  }
 ],
 "metadata": {
  "kernelspec": {
   "display_name": "Python 3",
   "language": "python",
   "name": "python3"
  },
  "language_info": {
   "codemirror_mode": {
    "name": "ipython",
    "version": 3
   },
   "file_extension": ".py",
   "mimetype": "text/x-python",
   "name": "python",
   "nbconvert_exporter": "python",
   "pygments_lexer": "ipython3",
   "version": "3.7.4"
  }
 },
 "nbformat": 4,
 "nbformat_minor": 5
}
